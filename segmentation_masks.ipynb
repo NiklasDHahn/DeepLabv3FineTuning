{
 "cells": [
  {
   "cell_type": "code",
   "execution_count": 4,
   "metadata": {},
   "outputs": [],
   "source": [
    "import cv2\n",
    "import os\n",
    "import numpy as np"
   ]
  },
  {
   "cell_type": "code",
   "execution_count": 5,
   "metadata": {},
   "outputs": [],
   "source": [
    "# dir = r''\n",
    "file_list = [os.path.join(dir, f) for f in os.listdir(dir)]"
   ]
  },
  {
   "cell_type": "code",
   "execution_count": 12,
   "metadata": {},
   "outputs": [],
   "source": [
    "for f in file_list:\n",
    "    img = cv2.imread(f)\n",
    "    new_image = np.zeros_like(img)\n",
    "    new_image[:,:,0] = img[:,:,2] > 0\n",
    "    new_image[:,:,1] = img[:,:,2] > 0\n",
    "    new_image[:,:,2] = img[:,:,2] > 0\n",
    "    new_image = new_image.astype(int) * 255\n",
    "    cv2.imwrite(f, new_image)"
   ]
  }
 ],
 "metadata": {
  "kernelspec": {
   "display_name": "Python 3.7.2 ('deeplabv3')",
   "language": "python",
   "name": "python3"
  },
  "language_info": {
   "codemirror_mode": {
    "name": "ipython",
    "version": 3
   },
   "file_extension": ".py",
   "mimetype": "text/x-python",
   "name": "python",
   "nbconvert_exporter": "python",
   "pygments_lexer": "ipython3",
   "version": "3.7.15"
  },
  "orig_nbformat": 4,
  "vscode": {
   "interpreter": {
    "hash": "b6fca93b63c0acb164f553d9c2b9475b4686b298a68394181e3100cfd1962dce"
   }
  }
 },
 "nbformat": 4,
 "nbformat_minor": 2
}
